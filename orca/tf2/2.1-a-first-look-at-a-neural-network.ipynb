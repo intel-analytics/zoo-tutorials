{
 "cells": [
  {
   "cell_type": "code",
   "execution_count": 1,
   "metadata": {},
   "outputs": [
    {
     "output_type": "execute_result",
     "data": {
      "text/plain": [
       "'2.4.0'"
      ]
     },
     "metadata": {},
     "execution_count": 1
    }
   ],
   "source": [
    "from tensorflow import keras\n",
    "keras.__version__"
   ]
  },
  {
   "cell_type": "markdown",
   "metadata": {},
   "source": [
    "# A first look at a neural network\n",
    "\n",
    "This notebook contains the code samples found in Chapter 2, Section 1 of [Deep Learning with Python](https://www.manning.com/books/deep-learning-with-python?a_aid=keras&a_bid=76564dff). Note that the original text features far more content, in particular further explanations and figures: in this notebook, you will only find source code and related comments.\n",
    "\n",
    "----\n",
    "\n",
    "We will now take a look at a first concrete example of a neural network, which makes use of Keras and [Orca](https://analytics-zoo.github.io/master/#Orca/overview/) to learn to classify \n",
    "hand-written digits. Unless you already have experience with Keras or similar libraries, you will not understand everything about this \n",
    "first example right away. You probably haven't even installed Keras yet. Don't worry, that is perfectly fine. In the next chapter, we will \n",
    "review each element in our example and explain them in detail. So don't worry if some steps seem arbitrary or look like magic to you! \n",
    "We've got to start somewhere.\n",
    "\n",
    "The problem we are trying to solve here is to classify grayscale images of handwritten digits (28 pixels by 28 pixels), into their 10 \n",
    "categories (0 to 9). The dataset we will use is the MNIST dataset, a classic dataset in the machine learning community, which has been \n",
    "around for almost as long as the field itself and has been very intensively studied. It's a set of 60,000 training images, plus 10,000 test \n",
    "images, assembled by the National Institute of Standards and Technology (the NIST in MNIST) in the 1980s. You can think of \"solving\" MNIST \n",
    "as the \"Hello World\" of deep learning -- it's what you do to verify that your algorithms are working as expected. As you become a machine \n",
    "learning practitioner, you will see MNIST come up over and over again, in scientific papers, blog posts, and so on."
   ]
  },
  {
   "cell_type": "markdown",
   "metadata": {},
   "source": [
    "The MNIST dataset comes pre-loaded in Keras, in the form of a set of four Numpy arrays:"
   ]
  },
  {
   "cell_type": "code",
   "execution_count": 2,
   "metadata": {
    "collapsed": true
   },
   "outputs": [],
   "source": [
    "from tensorflow.keras.datasets import mnist\n",
    "\n",
    "(train_images, train_labels), (test_images, test_labels) = mnist.load_data()"
   ]
  },
  {
   "cell_type": "markdown",
   "metadata": {},
   "source": [
    "`train_images` and `train_labels` form the \"training set\", the data that the model will learn from. The model will then be tested on the \n",
    "\"test set\", `test_images` and `test_labels`. Our images are encoded as Numpy arrays, and the labels are simply an array of digits, ranging \n",
    "from 0 to 9. There is a one-to-one correspondence between the images and the labels.\n",
    "\n",
    "Let's have a look at the training data:"
   ]
  },
  {
   "cell_type": "code",
   "execution_count": 3,
   "metadata": {},
   "outputs": [
    {
     "output_type": "execute_result",
     "data": {
      "text/plain": [
       "(60000, 28, 28)"
      ]
     },
     "metadata": {},
     "execution_count": 3
    }
   ],
   "source": [
    "train_images.shape"
   ]
  },
  {
   "cell_type": "code",
   "execution_count": 4,
   "metadata": {},
   "outputs": [
    {
     "output_type": "execute_result",
     "data": {
      "text/plain": [
       "60000"
      ]
     },
     "metadata": {},
     "execution_count": 4
    }
   ],
   "source": [
    "train_data_size = len(train_labels)\n",
    "train_data_size"
   ]
  },
  {
   "cell_type": "code",
   "execution_count": 5,
   "metadata": {},
   "outputs": [
    {
     "output_type": "execute_result",
     "data": {
      "text/plain": [
       "array([5, 0, 4, ..., 5, 6, 8], dtype=uint8)"
      ]
     },
     "metadata": {},
     "execution_count": 5
    }
   ],
   "source": [
    "train_labels"
   ]
  },
  {
   "cell_type": "markdown",
   "metadata": {},
   "source": [
    "Let's have a look at the test data:"
   ]
  },
  {
   "cell_type": "code",
   "execution_count": 6,
   "metadata": {},
   "outputs": [
    {
     "output_type": "execute_result",
     "data": {
      "text/plain": [
       "(10000, 28, 28)"
      ]
     },
     "metadata": {},
     "execution_count": 6
    }
   ],
   "source": [
    "test_images.shape"
   ]
  },
  {
   "cell_type": "code",
   "execution_count": 7,
   "metadata": {},
   "outputs": [
    {
     "output_type": "execute_result",
     "data": {
      "text/plain": [
       "10000"
      ]
     },
     "metadata": {},
     "execution_count": 7
    }
   ],
   "source": [
    "test_data_size = len(test_labels)\n",
    "test_data_size"
   ]
  },
  {
   "cell_type": "code",
   "execution_count": 8,
   "metadata": {},
   "outputs": [
    {
     "output_type": "execute_result",
     "data": {
      "text/plain": [
       "array([7, 2, 1, ..., 4, 5, 6], dtype=uint8)"
      ]
     },
     "metadata": {},
     "execution_count": 8
    }
   ],
   "source": [
    "test_labels"
   ]
  },
  {
   "cell_type": "markdown",
   "metadata": {},
   "source": [
    "Our workflow will be as follow: first we will present our neural network with the training data, `train_images` and `train_labels`. The \n",
    "network will then learn to associate images and labels. Finally, we will ask the network to produce predictions for `test_images`, and we \n",
    "will verify if these predictions match the labels from `test_labels`.\n",
    "\n",
    "Let's build our network -- again, remember that you aren't supposed to understand everything about this example just yet."
   ]
  },
  {
   "cell_type": "code",
   "execution_count": 9,
   "metadata": {
    "collapsed": true
   },
   "outputs": [],
   "source": [
    "def model_creator(config):\n",
    "    network = keras.Sequential(\n",
    "        [keras.layers.Dense(512, activation='relu', input_shape=(28 * 28, )),\n",
    "         keras.layers.Dense(10, activation='softmax'),\n",
    "         ]\n",
    "    )\n",
    "\n",
    "    network.compile(optimizer='rmsprop',\n",
    "                    loss='sparse_categorical_crossentropy',\n",
    "                    metrics=['accuracy'])\n",
    "    return network"
   ]
  },
  {
   "cell_type": "markdown",
   "metadata": {},
   "source": [
    "\n",
    "The core building block of neural networks is the \"layer\", a data-processing module which you can conceive as a \"filter\" for data. Some \n",
    "data comes in, and comes out in a more useful form. Precisely, layers extract _representations_ out of the data fed into them -- hopefully \n",
    "representations that are more meaningful for the problem at hand. Most of deep learning really consists of chaining together simple layers \n",
    "which will implement a form of progressive \"data distillation\". A deep learning model is like a sieve for data processing, made of a \n",
    "succession of increasingly refined data filters -- the \"layers\".\n",
    "\n",
    "Here our network consists of a sequence of two `Dense` layers, which are densely-connected (also called \"fully-connected\") neural layers. \n",
    "The second (and last) layer is a 10-way \"softmax\" layer, which means it will return an array of 10 probability scores (summing to 1). Each \n",
    "score will be the probability that the current digit image belongs to one of our 10 digit classes.\n",
    "\n",
    "To make our network ready for training, we need to pick three more things, as part of \"compilation\" step:\n",
    "\n",
    "* A loss function: the is how the network will be able to measure how good a job it is doing on its training data, and thus how it will be \n",
    "able to steer itself in the right direction.\n",
    "* An optimizer: this is the mechanism through which the network will update itself based on the data it sees and its loss function.\n",
    "* Metrics to monitor during training and testing. Here we will only care about accuracy (the fraction of the images that were correctly \n",
    "classified).\n",
    "\n",
    "Then we need to define two configuration parameters, which are:\n",
    "\n",
    "* `max_epoch`: the maximum number of passes of the entire training dataset.\n",
    "*  `batch_size`: the number of training examples utilized in one iteration.\n",
    "\n",
    "As an example, we can define them as follows:"
   ]
  },
  {
   "cell_type": "code",
   "execution_count": 10,
   "metadata": {},
   "outputs": [],
   "source": [
    "max_epoch = 5\n",
    "batch_size = 320"
   ]
  },
  {
   "cell_type": "markdown",
   "metadata": {},
   "source": [
    "Before training, we will preprocess our data by reshaping it into the shape that the network expects, and scaling it so that all values are in the `[0, 1]` interval. Previously, our training images for instance were stored in an array of shape `(60000, 28, 28)` of type uint8 with values in the `[0, 255]` interval (`train_data_size` = 60000). We transform it into a `float32` array of shape `(60000, 28 * 28)` with values between 0 and 1. The datasets to be used are then created using the slices of the original trainging and testing data arrays. In addition, the \"repeat\" and \"shuffle\" process will help the model avoid bias and converge faster."
   ]
  },
  {
   "cell_type": "code",
   "execution_count": 11,
   "metadata": {
    "collapsed": true
   },
   "outputs": [],
   "source": [
    "import tensorflow as tf\n",
    "\n",
    "def train_data_creator(config, batch_size):\n",
    "    (train_images, train_labels), _ = mnist.load_data()\n",
    "    train_images = train_images.reshape((train_data_size, 28 * 28))\n",
    "    train_images = train_images.astype('float32') / 255\n",
    "\n",
    "    dataset = tf.data.Dataset.from_tensor_slices((train_images, train_labels))\n",
    "    dataset = dataset.repeat()\n",
    "    dataset = dataset.shuffle(1000)\n",
    "    dataset = dataset.batch(batch_size)\n",
    "    return dataset\n",
    "\n",
    "def val_data_creator(config, batch_size):\n",
    "    _, (test_images, test_labels) = mnist.load_data()\n",
    "    test_images = test_images.reshape((test_data_size, 28 * 28))\n",
    "    test_images = test_images.astype('float32') / 255\n",
    "\n",
    "    dataset = tf.data.Dataset.from_tensor_slices((test_images, test_labels))\n",
    "    dataset = dataset.repeat()\n",
    "    dataset = dataset.batch(batch_size)\n",
    "    return dataset"
   ]
  },
  {
   "source": [
    "We are now ready to train our network using Orca Estimator. Firstly, we need to initialize the Orca context by specifying local or distributed mode."
   ],
   "cell_type": "markdown",
   "metadata": {}
  },
  {
   "cell_type": "code",
   "execution_count": 12,
   "metadata": {
    "tags": [
     "outputPrepend"
    ]
   },
   "outputs": [],
   "source": [
    "from zoo.orca import init_orca_context, stop_orca_context\n",
    "from zoo.orca import OrcaContext\n",
    "\n",
    "OrcaContext.log_output = True # (this will display terminal's stdout and stderr in the Jupyter notebook).\n",
    "cluster_mode = \"local\"\n",
    "\n",
    "if cluster_mode == \"local\":\n",
    "    init_orca_context(cluster_mode=\"local\", cores=4)  # run in local mode\n",
    "elif cluster_mode == \"k8s\":\n",
    "    init_orca_context(cluster_mode=\"k8s\", num_nodes=2, cores=2)  # run on K8s cluster\n",
    "elif cluster_mode == \"yarn\":\n",
    "    init_orca_context(cluster_mode=\"yarn-client\", num_nodes=2, cores=2)  # run on Hadoop YARN cluster"
   ]
  },
  {
   "cell_type": "markdown",
   "metadata": {},
   "source": [
    "After importing the network configurations from Keras, we can call the `fit` method to fit the model to its training data. The number of training steps (or validation steps) per epoch can be simply calculated by `train_data_size // batch_size` (or `test_data_size // batch_size`). When training finishes, the model can be saved using the `save` method."
   ]
  },
  {
   "cell_type": "code",
   "execution_count": 13,
   "metadata": {
    "tags": [
     "outputPrepend"
    ]
   },
   "outputs": [
    {
     "output_type": "stream",
     "name": "stdout",
     "text": [
      "...\n",
      "\u001b[2m\u001b[36m(pid=3348)\u001b[0m Epoch 5/5\n",
      "  1/187 [..............................] - ETA: 0s - loss: 0.0634 - accuracy: 0.9781\n",
      "  9/187 [>.............................] - ETA: 1s - loss: 0.0599 - accuracy: 0.9840\n",
      " 19/187 [==>...........................] - ETA: 0s - loss: 0.0559 - accuracy: 0.9847\n",
      " 28/187 [===>..........................] - ETA: 0s - loss: 0.0551 - accuracy: 0.9842\n",
      " 37/187 [====>.........................] - ETA: 0s - loss: 0.0568 - accuracy: 0.9836\n",
      " 46/187 [======>.......................] - ETA: 0s - loss: 0.0555 - accuracy: 0.9842\n",
      " 55/187 [=======>......................] - ETA: 0s - loss: 0.0550 - accuracy: 0.9845\n",
      " 64/187 [=========>....................] - ETA: 0s - loss: 0.0542 - accuracy: 0.9846\n",
      " 73/187 [==========>...................] - ETA: 0s - loss: 0.0545 - accuracy: 0.9843\n",
      " 82/187 [============>.................] - ETA: 0s - loss: 0.0544 - accuracy: 0.9845\n",
      " 91/187 [=============>................] - ETA: 0s - loss: 0.0547 - accuracy: 0.9844\n",
      "100/187 [===============>..............] - ETA: 0s - loss: 0.0550 - accuracy: 0.9844\n",
      "109/187 [================>.............] - ETA: 0s - loss: 0.0547 - accuracy: 0.9846\n",
      "118/187 [=================>............] - ETA: 0s - loss: 0.0546 - accuracy: 0.9846\n",
      "127/187 [===================>..........] - ETA: 0s - loss: 0.0544 - accuracy: 0.9847\n",
      "136/187 [====================>.........] - ETA: 0s - loss: 0.0541 - accuracy: 0.9849\n",
      "145/187 [======================>.......] - ETA: 0s - loss: 0.0539 - accuracy: 0.9849\n",
      "154/187 [=======================>......] - ETA: 0s - loss: 0.0543 - accuracy: 0.9846\n",
      "163/187 [=========================>....] - ETA: 0s - loss: 0.0544 - accuracy: 0.9845\n",
      "173/187 [==========================>...] - ETA: 0s - loss: 0.0534 - accuracy: 0.9848\n",
      "182/187 [============================>.] - ETA: 0s - loss: 0.0529 - accuracy: 0.9848\n",
      "187/187 [==============================] - 1s 6ms/step - loss: 0.0522 - accuracy: 0.9850 - val_loss: 0.0743 - val_accuracy: 0.9767\n"
     ]
    },
    {
     "output_type": "execute_result",
     "data": {
      "text/plain": [
       "'/tmp/mnist_keras.ckpt'"
      ]
     },
     "metadata": {},
     "execution_count": 13
    }
   ],
   "source": [
    "from zoo.orca.learn.tf2 import Estimator\n",
    "\n",
    "est = Estimator.from_keras(model_creator=model_creator, workers_per_node=2)\n",
    "est.fit(data=train_data_creator,\n",
    "        epochs=max_epoch,\n",
    "        batch_size=batch_size,\n",
    "        steps_per_epoch=train_data_size // batch_size,\n",
    "        validation_data=val_data_creator,\n",
    "        validation_steps=test_data_size // batch_size)\n",
    "est.save(\"/tmp/mnist_keras.ckpt\")"
   ]
  },
  {
   "cell_type": "markdown",
   "metadata": {},
   "source": [
    "Two quantities are being displayed during training: the \"loss\" of the network over the training data, and the accuracy of the network over \n",
    "the training data.\n",
    "\n",
    "We quickly reach an accuracy of 0.9850 (i.e. 98.50%) on the training data. Now let's check that our model performs well on the test set too:"
   ]
  },
  {
   "cell_type": "code",
   "execution_count": 14,
   "metadata": {},
   "outputs": [
    {
     "output_type": "stream",
     "name": "stdout",
     "text": [
      "31/31 [==============================] - 0s 978us/step - loss: 0.0707 - accuracy: 0.9788\n",
      "{'validation_loss': 0.07073836028575897, 'validation_accuracy': 0.9788306355476379}\n"
     ]
    }
   ],
   "source": [
    "stats = est.evaluate(val_data_creator, num_steps=test_data_size // batch_size)\n",
    "est.shutdown()\n",
    "print(stats)"
   ]
  },
  {
   "cell_type": "markdown",
   "metadata": {},
   "source": [
    "\n",
    "Our test set accuracy turns out to be 97.88% -- that's a bit lower than the training set accuracy. \n",
    "This gap between training accuracy and test accuracy is an example of \"overfitting\", \n",
    "the fact that machine learning models tend to perform worse on new data than on their training data. \n",
    "\n",
    "This concludes our very first example -- you just saw how we could build and a train a neural network to classify handwritten digits. In the next chapter, we will go in detail over every moving piece we just previewed, and clarify what is really \n",
    "going on behind the scenes. You will learn about \"tensors\", the data-storing objects going into the network, about tensor operations, which \n",
    "layers are made of, and about gradient descent, which allows our network to learn from its training examples."
   ]
  },
  {
   "source": [
    "Note: you should call `stop_orca_context()` when the program finishes."
   ],
   "cell_type": "markdown",
   "metadata": {}
  },
  {
   "cell_type": "code",
   "execution_count": 15,
   "metadata": {},
   "outputs": [
    {
     "output_type": "stream",
     "name": "stdout",
     "text": [
      "Stopping orca context\n"
     ]
    }
   ],
   "source": [
    "stop_orca_context()"
   ]
  }
 ],
 "metadata": {
  "kernelspec": {
   "name": "python3",
   "display_name": "Python 3.7.9 64-bit ('tf2': conda)",
   "metadata": {
    "interpreter": {
     "hash": "5056d60bd69d51d1e2df40a6c6e7c71a949f2ed4ad3fa2ff8fce432a7c7c0fe5"
    }
   }
  },
  "language_info": {
   "codemirror_mode": {
    "name": "ipython",
    "version": 3
   },
   "file_extension": ".py",
   "mimetype": "text/x-python",
   "name": "python",
   "nbconvert_exporter": "python",
   "pygments_lexer": "ipython3",
   "version": "3.7.9-final"
  }
 },
 "nbformat": 4,
 "nbformat_minor": 2
}