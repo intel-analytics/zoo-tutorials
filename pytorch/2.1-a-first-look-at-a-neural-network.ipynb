{
 "cells": [
  {
   "cell_type": "code",
   "execution_count": 1,
   "metadata": {},
   "outputs": [
    {
     "output_type": "execute_result",
     "data": {
      "text/plain": [
       "'1.7.1'"
      ]
     },
     "metadata": {},
     "execution_count": 1
    }
   ],
   "source": [
    "import torch\n",
    "torch.__version__"
   ]
  },
  {
   "cell_type": "markdown",
   "metadata": {},
   "source": [
    "# A first look at a neural network\n",
    "\n",
    "This notebook contains the code samples found in Chapter 2, Section 1 of [Deep Learning with Python](https://www.manning.com/books/deep-learning-with-python?a_aid=keras&a_bid=76564dff). Note that the original text features far more content, in particular further explanations and figures: in this notebook, you will only find source code and related comments.\n",
    "\n",
    "----\n",
    "\n",
    "We will now take a look at a first concrete example of a neural network, which makes use of the Python library PyTorch to learn to classify \n",
    "hand-written digits. Unless you already have experience with PyTorch or similar libraries, you will not understand everything about this \n",
    "first example right away. You probably haven't even installed PyTorch yet. Don't worry, that is perfectly fine. In the next chapter, we will \n",
    "review each element in our example and explain them in detail. So don't worry if some steps seem arbitrary or look like magic to you! \n",
    "We've got to start somewhere.\n",
    "\n",
    "The problem we are trying to solve here is to classify grayscale images of handwritten digits (28 pixels by 28 pixels), into their 10 \n",
    "categories (0 to 9). The dataset we will use is the MNIST dataset, a classic dataset in the machine learning community, which has been \n",
    "around for almost as long as the field itself and has been very intensively studied. It's a set of 60,000 training images, plus 10,000 test \n",
    "images, assembled by the National Institute of Standards and Technology (the NIST in MNIST) in the 1980s. You can think of \"solving\" MNIST \n",
    "as the \"Hello World\" of deep learning -- it's what you do to verify that your algorithms are working as expected. As you become a machine \n",
    "learning practitioner, you will see MNIST come up over and over again, in scientific papers, blog posts, and so on."
   ]
  },
  {
   "cell_type": "markdown",
   "metadata": {},
   "source": [
    "The MNIST dataset comes pre-loaded in PyTorch, which can be extracted as follows:"
   ]
  },
  {
   "cell_type": "code",
   "execution_count": 2,
   "metadata": {
    "collapsed": true
   },
   "outputs": [],
   "source": [
    "import torch\n",
    "from torchvision import datasets\n",
    "\n",
    "dir='./dataset'\n",
    "train_data = datasets.MNIST(dir, train=True, download=True)\n",
    "test_data = datasets.MNIST(dir, train=False)"
   ]
  },
  {
   "cell_type": "markdown",
   "metadata": {},
   "source": [
    "The `train_data` is the \"training set\" that the model will learn from. The model will then be tested on the \n",
    "\"test set\", `test_data`. Both `train_data` and `test_data` are composed of a set of sample images (`data`) and their corresponding labels (`train_labels` / `test_labels`), which is an array of digits ranging from 0 to 9. There is a one-to-one correspondence between the images and the labels.\n",
    "\n",
    "Let's have a look at the training data:"
   ]
  },
  {
   "cell_type": "code",
   "execution_count": 3,
   "metadata": {},
   "outputs": [
    {
     "output_type": "execute_result",
     "data": {
      "text/plain": [
       "torch.Size([60000, 28, 28])"
      ]
     },
     "metadata": {},
     "execution_count": 3
    }
   ],
   "source": [
    "train_data.data.shape"
   ]
  },
  {
   "cell_type": "code",
   "execution_count": 4,
   "metadata": {},
   "outputs": [
    {
     "output_type": "execute_result",
     "data": {
      "text/plain": [
       "60000"
      ]
     },
     "metadata": {},
     "execution_count": 4
    }
   ],
   "source": [
    "len(train_data.train_labels)"
   ]
  },
  {
   "cell_type": "code",
   "execution_count": 5,
   "metadata": {},
   "outputs": [
    {
     "output_type": "execute_result",
     "data": {
      "text/plain": [
       "tensor([5, 0, 4,  ..., 5, 6, 8])"
      ]
     },
     "metadata": {},
     "execution_count": 5
    }
   ],
   "source": [
    "train_data.train_labels"
   ]
  },
  {
   "cell_type": "markdown",
   "metadata": {},
   "source": [
    "Let's have a look at the test data:"
   ]
  },
  {
   "cell_type": "code",
   "execution_count": 6,
   "metadata": {},
   "outputs": [
    {
     "output_type": "execute_result",
     "data": {
      "text/plain": [
       "torch.Size([10000, 28, 28])"
      ]
     },
     "metadata": {},
     "execution_count": 6
    }
   ],
   "source": [
    "test_data.data.shape"
   ]
  },
  {
   "cell_type": "code",
   "execution_count": 7,
   "metadata": {},
   "outputs": [
    {
     "output_type": "execute_result",
     "data": {
      "text/plain": [
       "10000"
      ]
     },
     "metadata": {},
     "execution_count": 7
    }
   ],
   "source": [
    "len(test_data.test_labels)"
   ]
  },
  {
   "cell_type": "code",
   "execution_count": 8,
   "metadata": {},
   "outputs": [
    {
     "output_type": "execute_result",
     "data": {
      "text/plain": [
       "tensor([7, 2, 1,  ..., 4, 5, 6])"
      ]
     },
     "metadata": {},
     "execution_count": 8
    }
   ],
   "source": [
    "test_data.test_labels"
   ]
  },
  {
   "cell_type": "markdown",
   "metadata": {},
   "source": [
    "Our workflow will be as follow: first we will present our neural network with the training data, `train_data`. The \n",
    "network will then learn to associate images and labels. Finally, we will ask the network to produce predictions for `test_data`, and we will verify if these predictions match the labels from `test_data`.\n",
    "\n",
    "Let's build our network -- again, remember that you aren't supposed to understand everything about this example just yet."
   ]
  },
  {
   "cell_type": "code",
   "execution_count": 9,
   "metadata": {
    "collapsed": true
   },
   "outputs": [
    {
     "output_type": "execute_result",
     "data": {
      "text/plain": [
       "Network(\n",
       "  (fc1): Linear(in_features=784, out_features=512, bias=True)\n",
       "  (fc2): Linear(in_features=512, out_features=10, bias=True)\n",
       ")"
      ]
     },
     "metadata": {},
     "execution_count": 9
    }
   ],
   "source": [
    "import torch.nn as nn\n",
    "import torch.nn.functional as F\n",
    "\n",
    "# Construct model\n",
    "class Network(nn.Module):\n",
    "    def __init__(self):\n",
    "        super(Network, self).__init__()\n",
    "\n",
    "        self.fc1 = nn.Linear(28*28, 512)\n",
    "        self.fc2 = nn.Linear(512, 10)\n",
    "\n",
    "    def forward(self, x):\n",
    "        x = x.view(-1, 28*28)\n",
    "        x = F.relu(self.fc1(x))\n",
    "        x = self.fc2(x)\n",
    "        return F.log_softmax(x, dim=1)\n",
    "\n",
    "model = Network()\n",
    "model.train()"
   ]
  },
  {
   "cell_type": "markdown",
   "metadata": {},
   "source": [
    "\n",
    "The core building block of neural networks is the \"layer\", a data-processing module which you can conceive as a \"filter\" for data. Some \n",
    "data comes in, and comes out in a more useful form. Precisely, layers extract _representations_ out of the data fed into them -- hopefully \n",
    "representations that are more meaningful for the problem at hand. Most of deep learning really consists of chaining together simple layers \n",
    "which will implement a form of progressive \"data distillation\". A deep learning model is like a sieve for data processing, made of a \n",
    "succession of increasingly refined data filters -- the \"layers\".\n",
    "\n",
    "Here our network consists of a sequence of two densely-connected (also called \"fully-connected\") neural layers. \n",
    "The second (and last) layer is a 10-way \"softmax\" layer, which means it will return an array of 10 probability scores (summing to 1). Each \n",
    "score will be the probability that the current digit image belongs to one of our 10 digit classes.\n",
    "\n",
    "To make our network ready for training, we need to pick three more things:\n",
    "\n",
    "* A loss function: this is how the network will be able to measure how good a job it is doing on its training data, and thus how it will be able to steer itself in the right direction.\n",
    "* An optimizer: this is the mechanism through which the network will update itself based on the data it sees and its loss function.\n",
    "* Metrics to monitor during training and testing. Here we will only care about accuracy (the fraction of the images that were correctly \n",
    "classified).\n",
    "\n",
    "Before defining the elements above, we need to initialize the orca context:\n"
   ]
  },
  {
   "cell_type": "code",
   "execution_count": 10,
   "metadata": {},
   "outputs": [
    
   ],
   "source": [
    "from zoo.orca import init_orca_context, stop_orca_context\n",
    "from zoo.orca import OrcaContext\n",
    "\n",
    "# recommended to set it to True when running Analytics Zoo in Jupyter notebook. \n",
    "OrcaContext.log_output = True # (this will display terminal's stdout and stderr in the Jupyter notebook).\n",
    "\n",
    "cluster_mode = \"local\"\n",
    "\n",
    "if cluster_mode == \"local\":\n",
    "    init_orca_context(cores=1, memory=\"2g\")   # run in local mode\n",
    "elif cluster_mode == \"k8s\":\n",
    "    init_orca_context(cluster_mode=\"k8s\", num_nodes=2, cores=4) # run on K8s cluster\n",
    "elif cluster_mode == \"yarn\":\n",
    "    init_orca_context(\n",
    "        cluster_mode=\"yarn-client\", cores=4, num_nodes=2, memory=\"2g\",\n",
    "        driver_memory=\"10g\", driver_cores=1,\n",
    "        conf={\"spark.rpc.message.maxSize\": \"1024\",\n",
    "              \"spark.task.maxFailures\": \"1\",\n",
    "              \"spark.driver.extraJavaOptions\": \"-Dbigdl.failure.retryTimes=1\"})   # run on Hadoop YARN cluster"
   ]
  },
  {
   "source": [
    "Specify loss function, optimizer, metrics, as well as the batch size for training/testing (number of samples utilized in one iteration):"
   ],
   "cell_type": "markdown",
   "metadata": {}
  },
  {
   "cell_type": "code",
   "execution_count": 11,
   "metadata": {
    "collapsed": true
   },
   "outputs": [
    {
     "output_type": "stream",
     "name": "stdout",
     "text": [
      "creating: createZooKerasAccuracy\n"
     ]
    }
   ],
   "source": [
    "from zoo.orca.learn.metrics import Accuracy\n",
    "\n",
    "criterion = nn.NLLLoss()                                # Loss function\n",
    "adam = torch.optim.Adam(model.parameters(), 0.001)      # Optimizer\n",
    "metrics=[Accuracy()]                                    # Metrics\n",
    "\n",
    "train_batch_size=320\n",
    "test_batch_size=320"
   ]
  },
  {
   "source": [
    "To load the data for training and evaluation, we can use Pytorch DataLoader. The data should be normalized before the training process, and the training data needs to be shuffled so that the model can converge faster."
   ],
   "cell_type": "markdown",
   "metadata": {}
  },
  {
   "cell_type": "code",
   "execution_count": 12,
   "metadata": {},
   "outputs": [],
   "source": [
    "from torchvision import transforms\n",
    "\n",
    "torch.manual_seed(0)\n",
    "\n",
    "train_loader = torch.utils.data.DataLoader(\n",
    "        datasets.MNIST(dir, train=True, download=True,\n",
    "                       transform=transforms.Compose([\n",
    "                           transforms.ToTensor(),\n",
    "                           transforms.Normalize((0.1307,), (0.3081,))\n",
    "                       ])),\n",
    "        batch_size= train_batch_size, shuffle=True)\n",
    "\n",
    "test_loader = torch.utils.data.DataLoader(\n",
    "        datasets.MNIST(dir, train=False,\n",
    "                       transform=transforms.Compose([\n",
    "                           transforms.ToTensor(),\n",
    "                           transforms.Normalize((0.1307,), (0.3081,))\n",
    "                       ])),\n",
    "        batch_size=test_batch_size, shuffle=False)"
   ]
  },
  {
   "cell_type": "markdown",
   "metadata": {},
   "source": [
    "We are now ready to train our network using Orca Pytorch Estimator:"
   ]
  },
  {
   "cell_type": "code",
   "execution_count": 13,
   "metadata": {
    "tags": [
     "outputPrepend"
    ]
   },
   "outputs": [
    {
     "output_type": "stream",
     "name": "stdout",
     "text": [
      "...\n",
      "2021-02-22 17:31:49 INFO  DistriOptimizer$:427 - [Epoch 5 58560/60160][Iteration 935][Wall Clock 85.759594242s] Trained 320.0 records in 0.083955904 seconds. Throughput is 3811.5247 records/second. Loss is 0.06152063. \n",
      "2021-02-22 17:31:49 INFO  DistriOptimizer$:427 - [Epoch 5 58880/60160][Iteration 936][Wall Clock 85.835908327s] Trained 320.0 records in 0.076314085 seconds. Throughput is 4193.1973 records/second. Loss is 0.032923408. \n",
      "2021-02-22 17:31:49 INFO  DistriOptimizer$:427 - [Epoch 5 59200/60160][Iteration 937][Wall Clock 85.913411948s] Trained 320.0 records in 0.077503621 seconds. Throughput is 4128.8394 records/second. Loss is 0.07016848. \n",
      "2021-02-22 17:31:49 INFO  DistriOptimizer$:427 - [Epoch 5 59520/60160][Iteration 938][Wall Clock 85.992577896s] Trained 320.0 records in 0.079165948 seconds. Throughput is 4042.1418 records/second. Loss is 0.03392674. \n",
      "2021-02-22 17:31:49 INFO  DistriOptimizer$:427 - [Epoch 5 59840/60160][Iteration 939][Wall Clock 86.071633508s] Trained 320.0 records in 0.079055612 seconds. Throughput is 4047.7834 records/second. Loss is 0.029882258. \n",
      "2021-02-22 17:31:49 INFO  DistriOptimizer$:427 - [Epoch 5 60160/60160][Iteration 940][Wall Clock 86.124388062s] Trained 320.0 records in 0.052754554 seconds. Throughput is 6065.827 records/second. Loss is 0.07037376. \n",
      "2021-02-22 17:31:49 INFO  DistriOptimizer$:472 - [Epoch 5 60160/60160][Iteration 940][Wall Clock 86.124388062s] Epoch finished. Wall clock time is 87921.741495 ms\n",
      "2021-02-22 17:31:49 INFO  DistriOptimizer$:111 - [Epoch 5 60160/60160][Iteration 940][Wall Clock 86.124388062s] Validate model...\n",
      "[Stage 1893:>                                                       (0 + 1) / 1]\n",
      "2021-02-22 17:31:51 INFO  DistriOptimizer$:177 - [Epoch 5 60160/60160][Iteration 940][Wall Clock 86.124388062s] validate model throughput is 5835.1914 records/second\n",
      "2021-02-22 17:31:51 INFO  DistriOptimizer$:180 - [Epoch 5 60160/60160][Iteration 940][Wall Clock 86.124388062s] Top1Accuracy is Accuracy(correct: 9791, count: 10000, accuracy: 0.9791)\n"
     ]
    },
    {
     "output_type": "execute_result",
     "data": {
      "text/plain": [
       "<zoo.orca.learn.pytorch.estimator.PyTorchSparkEstimator at 0x7fdc00eea790>"
      ]
     },
     "metadata": {},
     "execution_count": 13
    }
   ],
   "source": [
    "from zoo.orca.learn.pytorch import Estimator \n",
    "from zoo.orca.learn.trigger import EveryEpoch \n",
    "\n",
    "est = Estimator.from_torch(model=model, optimizer=adam, loss=criterion, metrics=metrics)\n",
    "est.fit(data=train_loader, epochs=5, validation_data=test_loader, batch_size=train_batch_size, checkpoint_trigger=EveryEpoch())"
   ]
  },
  {
   "cell_type": "markdown",
   "metadata": {},
   "source": [
    "The \"loss\" of the network over the training data is displayed during training. The training accuracy can be obtained by evaluating the model upon the training set:"
   ]
  },
  {
   "cell_type": "code",
   "execution_count": 14,
   "metadata": {},
   "outputs": [
    {
     "output_type": "stream",
     "name": "stdout",
     "text": [
      "[Stage 1897:>                                                       (0 + 1) / 1]",
      "2021-02-22 17:32:11 INFO  DistriOptimizer$:1759 - Top1Accuracy is Accuracy(correct: 59548, count: 60000, accuracy: 0.9924666666666667)\n",
      "{'Top1Accuracy': 0.9924666881561279}\n"
     ]
    }
   ],
   "source": [
    "train_result = est.evaluate(data=train_loader, batch_size=train_batch_size)\n",
    "print(train_result)"
   ]
  },
  {
   "source": [
    "We can see that the training accuracy is 0.992 (i.e. 99.2%). Now let's check if our model performs well on the test set too:"
   ],
   "cell_type": "markdown",
   "metadata": {}
  },
  {
   "cell_type": "code",
   "execution_count": 15,
   "metadata": {},
   "outputs": [
    {
     "output_type": "stream",
     "name": "stdout",
     "text": [
      "[Stage 1899:>                                                       (0 + 1) / 1]",
      "2021-02-22 17:32:14 INFO  DistriOptimizer$:1759 - Top1Accuracy is Accuracy(correct: 9791, count: 10000, accuracy: 0.9791)\n",
      "{'Top1Accuracy': 0.9790999889373779}\n"
     ]
    }
   ],
   "source": [
    "test_result = est.evaluate(data=test_loader, batch_size=test_batch_size)\n",
    "print(test_result)"
   ]
  },
  {
   "cell_type": "markdown",
   "metadata": {},
   "source": [
    "\n",
    "Our test set accuracy turns out to be 97.9% -- that's quite a bit lower than the training set accuracy. \n",
    "This gap between training accuracy and test accuracy is an example of \"overfitting\", \n",
    "the fact that machine learning models tend to perform worse on new data than on their training data. \n",
    "Overfitting will be a central topic in chapter 3.\n",
    "\n",
    "This concludes our very first example -- you just saw how we could build and a train a neural network to classify handwritten digits. In the next chapter, we will go in detail over every moving piece we just previewed, and clarify what is really going on behind the scenes. You will learn about \"tensors\", the data-storing objects going into the network, about tensor operations, which layers are made of, and about gradient descent, which allows our network to learn from its training examples.\n",
    "\n",
    "Note: you should call `stop_orca_context()` when the program finishes."
   ]
  },
  {
   "cell_type": "code",
   "execution_count": 16,
   "metadata": {},
   "outputs": [
    {
     "output_type": "stream",
     "name": "stdout",
     "text": [
      "Stopping orca context\n"
     ]
    }
   ],
   "source": [
    "stop_orca_context()"
   ]
  }
 ],
 "metadata": {
  "kernelspec": {
   "name": "python3",
   "display_name": "Python 3.7.9 64-bit ('tf2': conda)",
   "metadata": {
    "interpreter": {
     "hash": "5056d60bd69d51d1e2df40a6c6e7c71a949f2ed4ad3fa2ff8fce432a7c7c0fe5"
    }
   }
  },
  "language_info": {
   "codemirror_mode": {
    "name": "ipython",
    "version": 3
   },
   "file_extension": ".py",
   "mimetype": "text/x-python",
   "name": "python",
   "nbconvert_exporter": "python",
   "pygments_lexer": "ipython3",
   "version": "3.7.9-final"
  }
 },
 "nbformat": 4,
 "nbformat_minor": 2
}